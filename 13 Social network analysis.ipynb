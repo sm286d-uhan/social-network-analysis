{
  "nbformat": 4,
  "nbformat_minor": 0,
  "metadata": {
    "kernelspec": {
      "display_name": "Python 3",
      "language": "python",
      "name": "python3"
    },
    "language_info": {
      "codemirror_mode": {
        "name": "ipython",
        "version": 3
      },
      "file_extension": ".py",
      "mimetype": "text/x-python",
      "name": "python",
      "nbconvert_exporter": "python",
      "pygments_lexer": "ipython3",
      "version": "3.7.6"
    },
    "colab": {
      "name": "13 Social network analysis.ipynb",
      "provenance": []
    }
  },
  "cells": [
    {
      "cell_type": "markdown",
      "metadata": {
        "id": "tP2_i15V-tDN",
        "colab_type": "text"
      },
      "source": [
        "__Before you start working on this notebook, save a copy to Google Drive!__"
      ]
    },
    {
      "cell_type": "markdown",
      "metadata": {
        "hide_cell": true,
        "id": "5JdP7pQu3kKN",
        "colab_type": "text"
      },
      "source": [
        "<h5 class='prehead'>SM286D &middot; Introduction to Applied Mathematics with Python &middot; Spring 2020 &middot; Uhan</h5>\n",
        "\n",
        "<h5 class='lesson'>Lesson 13.</h5>\n",
        "\n",
        "<h1 class='lesson_title'>Social network analysis</h1>"
      ]
    },
    {
      "cell_type": "markdown",
      "metadata": {
        "id": "T0zQfYA53kKU",
        "colab_type": "text"
      },
      "source": [
        "## This lesson..."
      ]
    },
    {
      "cell_type": "markdown",
      "metadata": {
        "id": "VlM9pP8v3kKW",
        "colab_type": "text"
      },
      "source": [
        "We're going to find the key conspirators in the American Revolution through social network analysis. In particular, we will reproduce parts this analysis by Prof. Kieran Healy:\n",
        "\n",
        "https://kieranhealy.org/blog/archives/2013/06/09/using-metadata-to-find-paul-revere/\n",
        "\n",
        "(If the link above doesn't work, you can look at this [PDF version](https://github.com/sm286d-uhan/social-network-analysis/raw/colab/FindingPaulRevere.pdf) instead.)\n",
        "\n",
        "Prof. Healy used R to perform his analysis. Naturally, we will use Python."
      ]
    },
    {
      "cell_type": "markdown",
      "metadata": {
        "id": "Pn_m9HM23kKY",
        "colab_type": "text"
      },
      "source": [
        "---"
      ]
    },
    {
      "cell_type": "markdown",
      "metadata": {
        "id": "2lE0Z1c63kKh",
        "colab_type": "text"
      },
      "source": [
        "### Part 0"
      ]
    },
    {
      "cell_type": "markdown",
      "metadata": {
        "id": "tucXuqFM3kKl",
        "colab_type": "text"
      },
      "source": [
        "First, read Prof. Healy's analysis linked above to get an idea of what's coming next. It's a fun read!"
      ]
    },
    {
      "cell_type": "markdown",
      "metadata": {
        "id": "02g8pREX3kKt",
        "colab_type": "text"
      },
      "source": [
        "### Part 1"
      ]
    },
    {
      "cell_type": "markdown",
      "metadata": {
        "id": "p4YvtVa63kKu",
        "colab_type": "text"
      },
      "source": [
        "Ordinarily, we would use Excel and xlwings for this part. Let's see how we can accomplish the same thing using Google apps instead.\n",
        "\n",
        "Take a look at [this Google Sheet workbook](https://docs.google.com/spreadsheets/d/1EKLwS-E-QZnuCfg1kHucx4jHqLEdehP9VOPAFCZQShc/edit?usp=sharing).\n",
        "\n",
        "You'll see that the first sheet `PaulRevereAppD` has a table with oddly formatted names of revolutionaries in column A. In the next 7 columns we have a 0-1 matrix indicating whether the revolutionary belonged to one of seven clubs and social groups (1 if they did belong and 0 if they didn't). "
      ]
    },
    {
      "cell_type": "markdown",
      "metadata": {
        "id": "DxnLomXt3kKw",
        "colab_type": "text"
      },
      "source": [
        "#### Accessing a Google Spreadsheet from a Google Colab notebook"
      ]
    },
    {
      "cell_type": "markdown",
      "metadata": {
        "id": "V8BonFwr3kK0",
        "colab_type": "text"
      },
      "source": [
        "The code below handles authentication and imports the `gspread` library which lets you interact with Google Sheets using Python. After running the cell you'll be prompted to enter in some credentials, which Google will give you by following the link provided. \n",
        "\n",
        "_Note._ For more details, take a look at [the section on Google Sheets from this very helpful Colab walkthrough on accessing external data](https://colab.research.google.com/notebooks/io.ipynb#scrollTo=sOm9PFrT8mGG)."
      ]
    },
    {
      "cell_type": "code",
      "metadata": {
        "id": "sp0j5Xr23kK1",
        "colab_type": "code",
        "colab": {}
      },
      "source": [
        "from google.colab import auth\n",
        "import gspread\n",
        "from oauth2client.client import GoogleCredentials\n",
        "\n",
        "# Authenticate Google user\n",
        "auth.authenticate_user()\n",
        "\n",
        "# Create Google Sheets object\n",
        "gc = gspread.authorize(GoogleCredentials.get_application_default())"
      ],
      "execution_count": 0,
      "outputs": []
    },
    {
      "cell_type": "markdown",
      "metadata": {
        "id": "LrZw2y2b3kK6",
        "colab_type": "text"
      },
      "source": [
        "To interact with a Google Sheet workbook, all you need is the URL: use the `.open_by_url()` method of `gc`. (Recall that  `gc` is the Google Sheets object we defined above.) "
      ]
    },
    {
      "cell_type": "code",
      "metadata": {
        "id": "DJNYClYE3kK_",
        "colab_type": "code",
        "colab": {}
      },
      "source": [
        "# Create workbook object from Google Sheets workbook URL\n",
        "wb = gc.open_by_url('https://docs.google.com/spreadsheets/d/1EKLwS-E-QZnuCfg1kHucx4jHqLEdehP9VOPAFCZQShc/edit?usp=sharing')"
      ],
      "execution_count": 0,
      "outputs": []
    },
    {
      "cell_type": "markdown",
      "metadata": {
        "id": "2uAitwy23kLD",
        "colab_type": "text"
      },
      "source": [
        "Now that you have the workbook object, you can access specific worksheets. Note that the workbook you're working with has only one sheet which makes this really easy. However, if your workbook had, for instance, 10 different sheets or tabs, then it would be nice to know how to call one specific sheet. \n",
        "\n",
        "You can use the `.worksheet()` method of the workbook object `wb`, like this:"
      ]
    },
    {
      "cell_type": "code",
      "metadata": {
        "id": "iZa2WkzC3kLE",
        "colab_type": "code",
        "colab": {}
      },
      "source": [
        "# Create worksheet object from worksheet that contains the data\n",
        "sheet = wb.worksheet('PaulRevereAppD')"
      ],
      "execution_count": 0,
      "outputs": []
    },
    {
      "cell_type": "markdown",
      "metadata": {
        "id": "X0MMyTAa3kLH",
        "colab_type": "text"
      },
      "source": [
        "To extract all of the values from this worksheet sheet, you can call the `.get_all_values()` method on the worksheet object `sheet`, like this:"
      ]
    },
    {
      "cell_type": "code",
      "metadata": {
        "id": "WJDQtWvJ3kLI",
        "colab_type": "code",
        "colab": {}
      },
      "source": [
        "# Get all the data from the sheet\n",
        "data = sheet.get_all_values()"
      ],
      "execution_count": 0,
      "outputs": []
    },
    {
      "cell_type": "markdown",
      "metadata": {
        "id": "YbG7qizC3kLL",
        "colab_type": "text"
      },
      "source": [
        "What do you get? Print `data` to check your work."
      ]
    },
    {
      "cell_type": "code",
      "metadata": {
        "id": "tqJGkv9b3kLM",
        "colab_type": "code",
        "outputId": "d523e8bf-e96b-402e-c499-e3a1ceb7fe76",
        "colab": {
          "base_uri": "https://localhost:8080/",
          "height": 54
        }
      },
      "source": [
        "# Check your work\n",
        "print(data)"
      ],
      "execution_count": 5,
      "outputs": [
        {
          "output_type": "stream",
          "text": [
            "[['Adams.John', '0', '0', '1', '1', '0', '0', '0'], ['Adams.Samuel', '0', '0', '1', '1', '0', '1', '1'], ['Allen.Dr', '0', '0', '1', '0', '0', '0', '0'], ['Appleton.Nathaniel', '0', '0', '1', '0', '0', '1', '0'], ['Ash.Gilbert', '1', '0', '0', '0', '0', '0', '0'], ['Austin.Benjamin', '0', '0', '0', '0', '0', '0', '1'], ['Austin.Samuel', '0', '0', '0', '0', '0', '0', '1'], ['Avery.John', '0', '1', '0', '0', '0', '0', '1'], ['Baldwin.Cyrus', '0', '0', '0', '0', '0', '0', '1'], ['Ballard.John', '0', '0', '1', '0', '0', '0', '0'], ['Barber.Nathaniel', '0', '0', '1', '0', '1', '1', '1'], ['Barnard.Samuel', '0', '0', '0', '0', '1', '0', '0'], ['Barrett.Samuel', '1', '0', '0', '0', '0', '0', '1'], ['Bass.Henry', '0', '1', '1', '0', '1', '0', '1'], ['Bell.William', '1', '0', '0', '0', '0', '0', '0'], ['Blake.Increase', '1', '0', '0', '0', '0', '0', '0'], ['Boit.John', '0', '0', '1', '0', '0', '0', '0'], ['Bolter.Thomas', '0', '0', '0', '0', '1', '0', '0'], ['Boyer.Peter', '0', '0', '0', '0', '0', '0', '1'], ['Boynton.Richard', '0', '0', '0', '0', '0', '1', '1'], ['Brackett.Jos', '0', '0', '0', '0', '0', '0', '1'], ['Bradford.John', '0', '0', '0', '0', '0', '1', '1'], ['Bradlee.David', '0', '0', '0', '0', '1', '0', '0'], ['Bradlee.Josiah', '0', '0', '0', '0', '1', '0', '0'], ['Bradlee.Nathaniel', '0', '0', '0', '0', '1', '0', '0'], ['Bradlee.Thomas', '0', '0', '0', '0', '1', '0', '0'], ['Bray.George', '1', '0', '0', '0', '0', '0', '0'], ['Breck.William', '0', '0', '1', '0', '0', '0', '0'], ['Bewer.James', '0', '0', '0', '0', '1', '0', '0'], ['Brimmer.Herman', '0', '0', '0', '0', '0', '0', '1'], ['Brimmer.Martin', '0', '0', '0', '0', '0', '0', '1'], ['Broomfield.Henry', '0', '0', '0', '0', '0', '0', '1'], ['Brown.Hugh', '1', '0', '0', '0', '0', '0', '0'], ['Brown.Enoch', '0', '0', '0', '0', '0', '0', '1'], ['Brown.John', '0', '0', '0', '0', '0', '0', '1'], ['Bruce.Stephen', '0', '0', '0', '0', '1', '0', '0'], ['Burbeck.Edward', '1', '0', '0', '0', '0', '0', '0'], ['Burbeck.William', '1', '0', '0', '0', '0', '0', '0'], ['Burt.Benjamin', '0', '0', '1', '0', '0', '0', '0'], ['Burton.Benjamin', '0', '0', '0', '0', '1', '0', '0'], ['Cailleteau.Edward', '1', '0', '0', '0', '0', '0', '0'], ['Callendar.Elisha', '1', '0', '0', '0', '0', '0', '0'], ['Campbell.Nicholas', '0', '0', '0', '0', '1', '0', '0'], ['Cazneau.Capt', '0', '0', '1', '0', '0', '0', '0'], ['Chadwell.Mr', '0', '0', '1', '0', '0', '0', '0'], ['Champney.Caleb', '0', '0', '1', '0', '0', '0', '0'], ['Chase.Thomas', '0', '1', '1', '0', '1', '0', '1'], ['Cheever.Ezekiel', '0', '0', '1', '0', '0', '0', '1'], ['Chipman.Seth', '1', '0', '0', '0', '0', '0', '0'], ['Chrysty.Thomas', '0', '0', '1', '0', '0', '0', '0'], ['Church.Benjamin', '0', '0', '1', '1', '0', '0', '0'], ['Clarke.Benjamin', '0', '0', '1', '1', '0', '1', '1'], ['Cleverly.Stephen', '0', '0', '1', '0', '0', '0', '0'], ['Cochran.John', '0', '0', '1', '0', '0', '1', '0'], ['Colesworthy.Gilbert', '1', '0', '0', '0', '0', '0', '0'], ['Collier.Gershom', '0', '0', '0', '0', '0', '0', '1'], ['Collins.Ezra', '0', '0', '0', '0', '0', '0', '1'], ['Collson.Adam', '0', '1', '0', '0', '0', '0', '1'], ['Condy.JamesFoster', '0', '0', '0', '0', '0', '0', '1'], ['Cooper.Samuel', '0', '0', '1', '0', '0', '0', '0'], ['Cooper.William', '0', '0', '1', '0', '1', '1', '1'], ['Crafts.Thomas', '0', '0', '0', '0', '1', '0', '0'], ['Crane.John', '1', '0', '0', '0', '0', '0', '1'], ['Davis.Caleb', '0', '1', '1', '0', '1', '0', '1'], ['Davis.Edward', '1', '0', '0', '0', '0', '0', '0'], ['Davis.Robert', '1', '0', '0', '0', '0', '0', '0'], ['Davis.William', '0', '0', '1', '0', '0', '0', '0'], ['Dawes.Thomas', '0', '0', '0', '0', '1', '0', '0'], ['Dennie.William', '0', '0', '0', '0', '0', '0', '1'], ['Deshon.Moses', '0', '0', '0', '0', '0', '1', '1'], ['Dexter.Samuel', '0', '0', '0', '0', '0', '0', '1'], ['Dolbear.Edward', '0', '0', '0', '0', '0', '1', '1'], ['Doyle.Peter', '0', '0', '0', '0', '1', '0', '0'], ['Eaton.Joseph', '0', '0', '0', '0', '1', '0', '0'], ['Eayres.Joseph', '0', '0', '0', '0', '1', '0', '0'], ['Eckley.Unknown', '0', '0', '0', '0', '1', '0', '0'], ['Edes.Benjamin', '1', '0', '0', '0', '0', '0', '0'], ['Emmes.Samuel', '0', '0', '1', '0', '0', '0', '0'], ['Etheridge.William', '0', '0', '0', '0', '1', '0', '0'], ['Fenno.Samuel', '0', '0', '0', '0', '0', '0', '1'], ['Ferrell.Ambrose', '0', '0', '0', '0', '0', '0', '1'], ['Field.Joseph', '0', '0', '0', '0', '0', '0', '1'], ['Flagg.Josiah', '1', '0', '0', '0', '0', '0', '0'], ['Fleet.Thomas', '0', '0', '0', '0', '0', '0', '1'], ['Foster.Bos', '0', '0', '0', '0', '0', '0', '1'], ['Foster.Samuel', '0', '0', '0', '0', '1', '0', '0'], ['Frothingham.Nathaniel', '1', '0', '0', '0', '0', '0', '0'], ['Gammell.John', '1', '0', '0', '0', '0', '0', '0'], ['Gill.Moses', '0', '0', '1', '0', '0', '0', '0'], ['Gore.Samuel', '0', '0', '0', '0', '1', '0', '0'], ['Gould.William', '1', '0', '0', '0', '0', '0', '0'], ['Graham.James', '1', '0', '0', '0', '0', '0', '0'], ['Grant.Moses', '0', '0', '0', '0', '1', '0', '0'], ['Gray.Wait', '0', '0', '1', '0', '0', '0', '0'], ['Greene.Nathaniel', '0', '0', '1', '0', '0', '0', '0'], ['Greenleaf.Joseph', '0', '0', '1', '0', '0', '0', '0'], ['Greenleaf.William', '0', '1', '1', '0', '1', '0', '1'], ['Greenough.Newn', '0', '0', '1', '0', '0', '0', '1'], ['Ham.William', '1', '0', '0', '0', '0', '0', '0'], ['Hammond.Samuel', '0', '0', '1', '0', '0', '0', '0'], ['Hancock.Eben', '0', '0', '1', '1', '0', '0', '0'], ['Hancock.John', '0', '0', '1', '1', '0', '1', '1'], ['Hendley.William', '0', '0', '1', '0', '0', '0', '0'], ['Hewes.George', '0', '0', '1', '0', '0', '1', '0'], ['Hickling.William', '1', '0', '0', '0', '0', '0', '0'], ['Hicks.John', '0', '0', '0', '0', '0', '0', '1'], ['Hill.Alexander', '0', '0', '0', '0', '0', '0', '1'], ['Hitchborn.Nathaniel', '0', '1', '0', '0', '0', '0', '1'], ['Hitchborn.Thomas', '0', '0', '0', '0', '0', '0', '1'], ['Hobbs.Samuel', '0', '0', '1', '0', '0', '0', '0'], ['Hoffins.John', '0', '0', '1', '0', '1', '1', '1'], ['Holmes.Nathaniel', '0', '0', '0', '0', '1', '0', '0'], ['Hooton.John', '1', '0', '0', '0', '0', '0', '1'], ['Hopkins.Caleb', '0', '1', '1', '0', '1', '0', '1'], ['Hoskins.William', '1', '0', '0', '0', '0', '0', '0'], ['Howard.Samuel', '1', '0', '0', '0', '0', '0', '0'], ['Howe.Edward', '0', '0', '1', '0', '0', '0', '0'], ['Hunnewell.Jonathan', '0', '0', '0', '0', '1', '0', '0'], ['Hunnewell.Richard', '0', '0', '0', '0', '0', '0', '1'], ['Hunstable.Thomas', '0', '0', '0', '0', '0', '1', '1'], ['Hunt.Abraham', '0', '0', '0', '0', '0', '0', '1'], ['Ingersoll.Daniel', '0', '0', '0', '0', '0', '1', '1'], ['Inglish.Alexander', '0', '0', '0', '0', '1', '0', '0'], ['Isaac.Pierce', '0', '0', '0', '0', '1', '0', '0'], ['Ivers.James', '0', '0', '0', '0', '1', '0', '0'], ['Jarvis.Edward', '0', '0', '0', '0', '1', '0', '0'], ['Jarvis.Charles', '1', '0', '0', '0', '0', '0', '0'], ['Jefferds.Unknown', '0', '0', '1', '0', '0', '0', '0'], ['Jenkins.John', '0', '0', '0', '0', '1', '0', '0'], ['Johnston.Eben', '0', '0', '0', '0', '0', '0', '1'], ['Johonnott.Gabriel', '0', '0', '0', '0', '0', '0', '1'], ['Kent.Benjamin', '0', '0', '0', '0', '0', '0', '1'], ['Kerr.Walter', '1', '0', '0', '0', '0', '0', '0'], ['Kimball.Thomas', '0', '0', '0', '0', '0', '0', '1'], ['Kinnison.David', '0', '0', '0', '0', '0', '0', '1'], ['Lambert.John', '0', '0', '0', '0', '1', '0', '0'], ['Lee.Joseph', '1', '0', '0', '0', '0', '0', '0'], ['Lewis.Phillip', '1', '0', '0', '0', '0', '0', '0'], ['Lincoln.Amos', '0', '0', '1', '0', '0', '0', '0'], ['Loring.Matthew', '0', '0', '0', '0', '1', '0', '0'], ['Lowell.John', '1', '0', '0', '0', '0', '0', '0'], ['Machin.Thomas', '0', '0', '0', '0', '1', '0', '0'], ['Mackay.William', '0', '0', '0', '0', '0', '1', '0'], ['MacKintosh.Capt', '0', '0', '0', '0', '1', '0', '0'], ['MacNeil.Archibald', '0', '0', '0', '0', '1', '0', '0'], ['Marett.Phillip', '1', '0', '0', '0', '0', '0', '0'], ['Marlton.John', '1', '0', '0', '0', '0', '0', '0'], ['Marshall.Thomas', '0', '0', '0', '0', '0', '0', '1'], ['Marson.John', '0', '0', '0', '0', '0', '0', '1'], ['Mason.Jonathan', '0', '0', '0', '0', '0', '0', '1'], ['Matchett.John', '0', '0', '1', '0', '0', '0', '0'], ['May.John', '0', '0', '0', '0', '1', '0', '0'], ['McAlpine.William', '1', '0', '0', '0', '0', '0', '0'], ['Melville.Thomas', '0', '0', '0', '0', '1', '0', '0'], ['Merrit.John', '0', '0', '1', '0', '0', '0', '0'], ['Milliken.Thomas', '1', '0', '0', '0', '0', '0', '0'], ['Molineux.William', '0', '0', '1', '0', '1', '1', '0'], ['Moody.Samuel', '1', '0', '0', '0', '0', '0', '0'], ['Moore.Thomas', '0', '0', '0', '0', '1', '0', '0'], ['Morse.Anthony', '0', '0', '0', '0', '1', '0', '0'], ['Morton.Perez', '0', '0', '1', '0', '0', '0', '0'], ['Mountford.Joseph', '0', '0', '0', '0', '1', '0', '0'], ['Newell.Eliphelet', '0', '0', '0', '0', '1', '0', '0'], ['Nicholls.Unknown', '1', '0', '0', '0', '0', '0', '0'], ['Noyces.Nat', '0', '0', '0', '0', '0', '0', '1'], ['Obear.Israel', '1', '0', '0', '0', '0', '0', '0'], ['Otis.James', '0', '0', '0', '1', '0', '1', '0'], ['Palfrey.William', '1', '0', '0', '0', '0', '0', '0'], ['Palmer.Joseph', '0', '0', '0', '0', '1', '0', '0'], ['Palms.Richard', '0', '0', '1', '0', '0', '0', '0'], ['Parker.Jonathan', '0', '0', '0', '0', '1', '0', '0'], ['Parkman.Elias', '0', '0', '1', '0', '0', '0', '1'], ['Partridge.Sam', '0', '0', '0', '0', '0', '0', '1'], ['Payson.Joseph', '0', '0', '0', '0', '1', '0', '0'], ['Pearce.IsaacJun', '0', '0', '1', '0', '0', '0', '0'], ['Pearce.Isaac', '0', '0', '1', '0', '0', '0', '0'], ['Peck.Samuel', '1', '0', '0', '0', '1', '0', '0'], ['Peck.Thomas', '0', '0', '1', '0', '0', '0', '0'], ['Peters.John', '0', '0', '0', '0', '1', '0', '0'], ['Phillips.John', '1', '0', '0', '0', '0', '0', '0'], ['Phillips.Samuel', '0', '0', '0', '1', '0', '0', '0'], ['Phillips.William', '0', '0', '0', '0', '0', '0', '1'], ['Pierce.William', '0', '0', '0', '0', '1', '0', '0'], ['Pierpont.Robert', '0', '0', '0', '0', '0', '1', '0'], ['Pitts.John', '0', '0', '0', '0', '0', '0', '1'], ['Pitts.Lendall', '0', '0', '0', '0', '1', '0', '0'], ['Pitts.Samuel', '0', '0', '0', '0', '0', '0', '1'], ['Porter.Thomas', '0', '0', '0', '0', '1', '0', '0'], ['Potter.Edward', '1', '0', '0', '0', '0', '0', '0'], ['Powell.William', '0', '0', '0', '0', '0', '1', '1'], ['Prentiss.Henry', '0', '0', '0', '0', '1', '0', '0'], ['Prince.John', '0', '0', '0', '0', '1', '0', '0'], ['Prince.Job', '0', '0', '0', '0', '0', '0', '1'], ['Proctor.Edward', '0', '0', '1', '0', '1', '0', '1'], ['Pulling.John', '0', '0', '1', '0', '0', '0', '1'], ['Pulling.Richard', '1', '0', '0', '0', '0', '0', '0'], ['Purkitt.Henry', '0', '0', '0', '0', '1', '0', '0'], ['Quincy.Josiah', '0', '0', '0', '1', '0', '1', '0'], ['Randall.John', '0', '0', '0', '0', '1', '0', '0'], ['Revere.Paul', '1', '0', '1', '1', '1', '0', '1'], ['Roby.Joseph', '0', '0', '0', '0', '1', '0', '0'], ['Roylson.Thomas', '0', '0', '0', '0', '0', '0', '1'], ['Ruddock.Abiel', '0', '0', '1', '0', '0', '0', '1'], ['Russell.John', '0', '0', '0', '0', '1', '0', '0'], ['Russell.William', '0', '0', '0', '0', '1', '0', '0'], ['Sessions.Robert', '0', '0', '0', '0', '1', '0', '0'], ['Seward.James', '1', '0', '0', '0', '0', '0', '0'], ['Sharp.Gibbens', '0', '0', '1', '0', '0', '0', '0'], ['Shed.Joseph', '0', '0', '0', '0', '1', '0', '0'], ['Sigourney.John', '0', '0', '1', '0', '0', '0', '0'], ['Simpson.Benjamin', '0', '0', '0', '0', '1', '0', '0'], ['Slater.Peter', '0', '0', '0', '0', '1', '0', '0'], ['Sloper.Ambrose', '1', '0', '0', '0', '0', '0', '0'], ['Smith.John', '0', '1', '0', '0', '0', '0', '0'], ['Spear.Thomas', '0', '0', '0', '0', '1', '0', '0'], ['Sprague.Samuel', '0', '0', '0', '0', '1', '0', '0'], ['Spurr.John', '0', '0', '0', '0', '1', '0', '0'], ['Stanbridge.Henry', '1', '0', '0', '0', '0', '0', '0'], ['Starr.James', '0', '0', '0', '0', '1', '0', '0'], ['Stearns.Phineas', '0', '0', '0', '0', '1', '0', '0'], ['Stevens.Ebenezer', '0', '0', '0', '0', '1', '0', '0'], ['Stoddard.Asa', '0', '0', '1', '0', '0', '0', '0'], ['Stoddard.Jonathan', '0', '0', '1', '0', '0', '0', '0'], ['Story.Elisha', '0', '0', '1', '0', '1', '0', '0'], ['Swan.James', '0', '0', '1', '0', '1', '0', '0'], ['Sweetser.John', '0', '0', '0', '0', '0', '1', '0'], ['Symmes.Eben', '0', '0', '1', '0', '0', '0', '0'], ['Symmes.John', '0', '0', '1', '0', '0', '0', '0'], ['Tabor.Philip', '1', '0', '0', '0', '0', '0', '0'], ['Tileston.Thomas', '0', '0', '1', '0', '0', '0', '0'], ['Trott.George', '0', '1', '0', '0', '0', '0', '0'], ['Tyler.Royall', '0', '0', '0', '1', '0', '0', '0'], ['Urann.Thomas', '1', '0', '1', '0', '1', '0', '0'], ['Vernon.Fortesque', '0', '0', '0', '0', '0', '0', '1'], ['Waldo.Benjamin', '0', '0', '0', '0', '0', '0', '1'], ['Warren.Joseph', '1', '0', '1', '1', '0', '0', '1'], ['Webb.Joseph', '1', '0', '0', '0', '0', '0', '0'], ['Webster.Thomas', '1', '0', '0', '0', '0', '0', '0'], ['Welles.Henry', '1', '1', '0', '0', '0', '0', '0'], ['Wendell.Oliver', '0', '0', '0', '0', '0', '1', '1'], ['Wheeler.Josiah', '0', '0', '0', '0', '1', '0', '0'], ['White.Samuel', '0', '0', '1', '0', '0', '0', '0'], ['Whitten.John', '1', '0', '0', '0', '0', '0', '0'], ['Whitwell.Samuel', '0', '0', '0', '0', '0', '0', '1'], ['Whitwell.William', '0', '0', '0', '0', '0', '0', '1'], ['Williams.Jeremiah', '0', '0', '0', '0', '1', '0', '0'], ['Williams.Jonathan', '0', '0', '0', '0', '0', '0', '1'], ['Williams.Thomas', '0', '0', '0', '0', '1', '0', '0'], ['Willis.Nathaniel', '0', '0', '0', '0', '1', '0', '0'], ['Wingfield.William', '1', '0', '0', '0', '0', '0', '0'], ['Winslow.John', '0', '0', '0', '1', '0', '0', '0'], ['Winthrop.John', '0', '0', '1', '0', '0', '0', '1'], ['Wyeth.Joshua', '0', '0', '0', '0', '1', '0', '0'], ['Young.Thomas', '0', '0', '1', '0', '1', '1', '0']]\n"
          ],
          "name": "stdout"
        }
      ]
    },
    {
      "cell_type": "markdown",
      "metadata": {
        "id": "GUqlIjbF3kLO",
        "colab_type": "text"
      },
      "source": [
        "You should see that `data` is a list of lists. Each inner list represents a row of the worksheet. To get a single list that contains the names of the revolutionaries, you can use a list comprehension, like this:"
      ]
    },
    {
      "cell_type": "code",
      "metadata": {
        "id": "-vNaOXjx3kLP",
        "colab_type": "code",
        "colab": {}
      },
      "source": [
        "# Use a list comprehension to get the names of the revolutionaries in a single list\n",
        "names = [data[i][0] for i in range(len(data))]"
      ],
      "execution_count": 0,
      "outputs": []
    },
    {
      "cell_type": "markdown",
      "metadata": {
        "id": "eX06DzAI3kLS",
        "colab_type": "text"
      },
      "source": [
        "Check your work: who are the first two revolutionaries?"
      ]
    },
    {
      "cell_type": "code",
      "metadata": {
        "id": "PNXpXv1D3kLT",
        "colab_type": "code",
        "outputId": "af5c7542-ba58-4004-c7f7-0a9c8964b545",
        "colab": {
          "base_uri": "https://localhost:8080/",
          "height": 34
        }
      },
      "source": [
        "# Check your work\n",
        "print(f\"The two revolutionary cousins are {names[0]} and {names[1]}.\")"
      ],
      "execution_count": 7,
      "outputs": [
        {
          "output_type": "stream",
          "text": [
            "The two revolutionary cousins are Adams.John and Adams.Samuel.\n"
          ],
          "name": "stdout"
        }
      ]
    },
    {
      "cell_type": "markdown",
      "metadata": {
        "id": "bvux1Tkh3kLV",
        "colab_type": "text"
      },
      "source": [
        "### Part 2"
      ]
    },
    {
      "cell_type": "markdown",
      "metadata": {
        "id": "elFNmSzg3kLW",
        "colab_type": "text"
      },
      "source": [
        "Now get the 0-1 matrix from the sheet `PaulRevereAppD`. \n",
        "\n",
        "Start by creating a list of lists that only stores the floating point versions of the numeric values from the spreadsheet. Use `data` from Part 1 to do this."
      ]
    },
    {
      "cell_type": "code",
      "metadata": {
        "id": "AvUKyO5B3kLX",
        "colab_type": "code",
        "outputId": "09fedbe6-429a-4b08-84e9-7f72451366f7",
        "colab": {
          "base_uri": "https://localhost:8080/",
          "height": 54
        }
      },
      "source": [
        "# Grab 0-1 matrix from the variable data we created above\n",
        "zero_one_values = []\n",
        "for i in range(len(data)):\n",
        "    row = []\n",
        "    \n",
        "    for j in range(1, len(data[i])):\n",
        "        row.append(float(data[i][j]))\n",
        "        \n",
        "    zero_one_values.append(row)\n",
        "    \n",
        "# Check our work\n",
        "print(zero_one_values)"
      ],
      "execution_count": 8,
      "outputs": [
        {
          "output_type": "stream",
          "text": [
            "[[0.0, 0.0, 1.0, 1.0, 0.0, 0.0, 0.0], [0.0, 0.0, 1.0, 1.0, 0.0, 1.0, 1.0], [0.0, 0.0, 1.0, 0.0, 0.0, 0.0, 0.0], [0.0, 0.0, 1.0, 0.0, 0.0, 1.0, 0.0], [1.0, 0.0, 0.0, 0.0, 0.0, 0.0, 0.0], [0.0, 0.0, 0.0, 0.0, 0.0, 0.0, 1.0], [0.0, 0.0, 0.0, 0.0, 0.0, 0.0, 1.0], [0.0, 1.0, 0.0, 0.0, 0.0, 0.0, 1.0], [0.0, 0.0, 0.0, 0.0, 0.0, 0.0, 1.0], [0.0, 0.0, 1.0, 0.0, 0.0, 0.0, 0.0], [0.0, 0.0, 1.0, 0.0, 1.0, 1.0, 1.0], [0.0, 0.0, 0.0, 0.0, 1.0, 0.0, 0.0], [1.0, 0.0, 0.0, 0.0, 0.0, 0.0, 1.0], [0.0, 1.0, 1.0, 0.0, 1.0, 0.0, 1.0], [1.0, 0.0, 0.0, 0.0, 0.0, 0.0, 0.0], [1.0, 0.0, 0.0, 0.0, 0.0, 0.0, 0.0], [0.0, 0.0, 1.0, 0.0, 0.0, 0.0, 0.0], [0.0, 0.0, 0.0, 0.0, 1.0, 0.0, 0.0], [0.0, 0.0, 0.0, 0.0, 0.0, 0.0, 1.0], [0.0, 0.0, 0.0, 0.0, 0.0, 1.0, 1.0], [0.0, 0.0, 0.0, 0.0, 0.0, 0.0, 1.0], [0.0, 0.0, 0.0, 0.0, 0.0, 1.0, 1.0], [0.0, 0.0, 0.0, 0.0, 1.0, 0.0, 0.0], [0.0, 0.0, 0.0, 0.0, 1.0, 0.0, 0.0], [0.0, 0.0, 0.0, 0.0, 1.0, 0.0, 0.0], [0.0, 0.0, 0.0, 0.0, 1.0, 0.0, 0.0], [1.0, 0.0, 0.0, 0.0, 0.0, 0.0, 0.0], [0.0, 0.0, 1.0, 0.0, 0.0, 0.0, 0.0], [0.0, 0.0, 0.0, 0.0, 1.0, 0.0, 0.0], [0.0, 0.0, 0.0, 0.0, 0.0, 0.0, 1.0], [0.0, 0.0, 0.0, 0.0, 0.0, 0.0, 1.0], [0.0, 0.0, 0.0, 0.0, 0.0, 0.0, 1.0], [1.0, 0.0, 0.0, 0.0, 0.0, 0.0, 0.0], [0.0, 0.0, 0.0, 0.0, 0.0, 0.0, 1.0], [0.0, 0.0, 0.0, 0.0, 0.0, 0.0, 1.0], [0.0, 0.0, 0.0, 0.0, 1.0, 0.0, 0.0], [1.0, 0.0, 0.0, 0.0, 0.0, 0.0, 0.0], [1.0, 0.0, 0.0, 0.0, 0.0, 0.0, 0.0], [0.0, 0.0, 1.0, 0.0, 0.0, 0.0, 0.0], [0.0, 0.0, 0.0, 0.0, 1.0, 0.0, 0.0], [1.0, 0.0, 0.0, 0.0, 0.0, 0.0, 0.0], [1.0, 0.0, 0.0, 0.0, 0.0, 0.0, 0.0], [0.0, 0.0, 0.0, 0.0, 1.0, 0.0, 0.0], [0.0, 0.0, 1.0, 0.0, 0.0, 0.0, 0.0], [0.0, 0.0, 1.0, 0.0, 0.0, 0.0, 0.0], [0.0, 0.0, 1.0, 0.0, 0.0, 0.0, 0.0], [0.0, 1.0, 1.0, 0.0, 1.0, 0.0, 1.0], [0.0, 0.0, 1.0, 0.0, 0.0, 0.0, 1.0], [1.0, 0.0, 0.0, 0.0, 0.0, 0.0, 0.0], [0.0, 0.0, 1.0, 0.0, 0.0, 0.0, 0.0], [0.0, 0.0, 1.0, 1.0, 0.0, 0.0, 0.0], [0.0, 0.0, 1.0, 1.0, 0.0, 1.0, 1.0], [0.0, 0.0, 1.0, 0.0, 0.0, 0.0, 0.0], [0.0, 0.0, 1.0, 0.0, 0.0, 1.0, 0.0], [1.0, 0.0, 0.0, 0.0, 0.0, 0.0, 0.0], [0.0, 0.0, 0.0, 0.0, 0.0, 0.0, 1.0], [0.0, 0.0, 0.0, 0.0, 0.0, 0.0, 1.0], [0.0, 1.0, 0.0, 0.0, 0.0, 0.0, 1.0], [0.0, 0.0, 0.0, 0.0, 0.0, 0.0, 1.0], [0.0, 0.0, 1.0, 0.0, 0.0, 0.0, 0.0], [0.0, 0.0, 1.0, 0.0, 1.0, 1.0, 1.0], [0.0, 0.0, 0.0, 0.0, 1.0, 0.0, 0.0], [1.0, 0.0, 0.0, 0.0, 0.0, 0.0, 1.0], [0.0, 1.0, 1.0, 0.0, 1.0, 0.0, 1.0], [1.0, 0.0, 0.0, 0.0, 0.0, 0.0, 0.0], [1.0, 0.0, 0.0, 0.0, 0.0, 0.0, 0.0], [0.0, 0.0, 1.0, 0.0, 0.0, 0.0, 0.0], [0.0, 0.0, 0.0, 0.0, 1.0, 0.0, 0.0], [0.0, 0.0, 0.0, 0.0, 0.0, 0.0, 1.0], [0.0, 0.0, 0.0, 0.0, 0.0, 1.0, 1.0], [0.0, 0.0, 0.0, 0.0, 0.0, 0.0, 1.0], [0.0, 0.0, 0.0, 0.0, 0.0, 1.0, 1.0], [0.0, 0.0, 0.0, 0.0, 1.0, 0.0, 0.0], [0.0, 0.0, 0.0, 0.0, 1.0, 0.0, 0.0], [0.0, 0.0, 0.0, 0.0, 1.0, 0.0, 0.0], [0.0, 0.0, 0.0, 0.0, 1.0, 0.0, 0.0], [1.0, 0.0, 0.0, 0.0, 0.0, 0.0, 0.0], [0.0, 0.0, 1.0, 0.0, 0.0, 0.0, 0.0], [0.0, 0.0, 0.0, 0.0, 1.0, 0.0, 0.0], [0.0, 0.0, 0.0, 0.0, 0.0, 0.0, 1.0], [0.0, 0.0, 0.0, 0.0, 0.0, 0.0, 1.0], [0.0, 0.0, 0.0, 0.0, 0.0, 0.0, 1.0], [1.0, 0.0, 0.0, 0.0, 0.0, 0.0, 0.0], [0.0, 0.0, 0.0, 0.0, 0.0, 0.0, 1.0], [0.0, 0.0, 0.0, 0.0, 0.0, 0.0, 1.0], [0.0, 0.0, 0.0, 0.0, 1.0, 0.0, 0.0], [1.0, 0.0, 0.0, 0.0, 0.0, 0.0, 0.0], [1.0, 0.0, 0.0, 0.0, 0.0, 0.0, 0.0], [0.0, 0.0, 1.0, 0.0, 0.0, 0.0, 0.0], [0.0, 0.0, 0.0, 0.0, 1.0, 0.0, 0.0], [1.0, 0.0, 0.0, 0.0, 0.0, 0.0, 0.0], [1.0, 0.0, 0.0, 0.0, 0.0, 0.0, 0.0], [0.0, 0.0, 0.0, 0.0, 1.0, 0.0, 0.0], [0.0, 0.0, 1.0, 0.0, 0.0, 0.0, 0.0], [0.0, 0.0, 1.0, 0.0, 0.0, 0.0, 0.0], [0.0, 0.0, 1.0, 0.0, 0.0, 0.0, 0.0], [0.0, 1.0, 1.0, 0.0, 1.0, 0.0, 1.0], [0.0, 0.0, 1.0, 0.0, 0.0, 0.0, 1.0], [1.0, 0.0, 0.0, 0.0, 0.0, 0.0, 0.0], [0.0, 0.0, 1.0, 0.0, 0.0, 0.0, 0.0], [0.0, 0.0, 1.0, 1.0, 0.0, 0.0, 0.0], [0.0, 0.0, 1.0, 1.0, 0.0, 1.0, 1.0], [0.0, 0.0, 1.0, 0.0, 0.0, 0.0, 0.0], [0.0, 0.0, 1.0, 0.0, 0.0, 1.0, 0.0], [1.0, 0.0, 0.0, 0.0, 0.0, 0.0, 0.0], [0.0, 0.0, 0.0, 0.0, 0.0, 0.0, 1.0], [0.0, 0.0, 0.0, 0.0, 0.0, 0.0, 1.0], [0.0, 1.0, 0.0, 0.0, 0.0, 0.0, 1.0], [0.0, 0.0, 0.0, 0.0, 0.0, 0.0, 1.0], [0.0, 0.0, 1.0, 0.0, 0.0, 0.0, 0.0], [0.0, 0.0, 1.0, 0.0, 1.0, 1.0, 1.0], [0.0, 0.0, 0.0, 0.0, 1.0, 0.0, 0.0], [1.0, 0.0, 0.0, 0.0, 0.0, 0.0, 1.0], [0.0, 1.0, 1.0, 0.0, 1.0, 0.0, 1.0], [1.0, 0.0, 0.0, 0.0, 0.0, 0.0, 0.0], [1.0, 0.0, 0.0, 0.0, 0.0, 0.0, 0.0], [0.0, 0.0, 1.0, 0.0, 0.0, 0.0, 0.0], [0.0, 0.0, 0.0, 0.0, 1.0, 0.0, 0.0], [0.0, 0.0, 0.0, 0.0, 0.0, 0.0, 1.0], [0.0, 0.0, 0.0, 0.0, 0.0, 1.0, 1.0], [0.0, 0.0, 0.0, 0.0, 0.0, 0.0, 1.0], [0.0, 0.0, 0.0, 0.0, 0.0, 1.0, 1.0], [0.0, 0.0, 0.0, 0.0, 1.0, 0.0, 0.0], [0.0, 0.0, 0.0, 0.0, 1.0, 0.0, 0.0], [0.0, 0.0, 0.0, 0.0, 1.0, 0.0, 0.0], [0.0, 0.0, 0.0, 0.0, 1.0, 0.0, 0.0], [1.0, 0.0, 0.0, 0.0, 0.0, 0.0, 0.0], [0.0, 0.0, 1.0, 0.0, 0.0, 0.0, 0.0], [0.0, 0.0, 0.0, 0.0, 1.0, 0.0, 0.0], [0.0, 0.0, 0.0, 0.0, 0.0, 0.0, 1.0], [0.0, 0.0, 0.0, 0.0, 0.0, 0.0, 1.0], [0.0, 0.0, 0.0, 0.0, 0.0, 0.0, 1.0], [1.0, 0.0, 0.0, 0.0, 0.0, 0.0, 0.0], [0.0, 0.0, 0.0, 0.0, 0.0, 0.0, 1.0], [0.0, 0.0, 0.0, 0.0, 0.0, 0.0, 1.0], [0.0, 0.0, 0.0, 0.0, 1.0, 0.0, 0.0], [1.0, 0.0, 0.0, 0.0, 0.0, 0.0, 0.0], [1.0, 0.0, 0.0, 0.0, 0.0, 0.0, 0.0], [0.0, 0.0, 1.0, 0.0, 0.0, 0.0, 0.0], [0.0, 0.0, 0.0, 0.0, 1.0, 0.0, 0.0], [1.0, 0.0, 0.0, 0.0, 0.0, 0.0, 0.0], [0.0, 0.0, 0.0, 0.0, 1.0, 0.0, 0.0], [0.0, 0.0, 0.0, 0.0, 0.0, 1.0, 0.0], [0.0, 0.0, 0.0, 0.0, 1.0, 0.0, 0.0], [0.0, 0.0, 0.0, 0.0, 1.0, 0.0, 0.0], [1.0, 0.0, 0.0, 0.0, 0.0, 0.0, 0.0], [1.0, 0.0, 0.0, 0.0, 0.0, 0.0, 0.0], [0.0, 0.0, 0.0, 0.0, 0.0, 0.0, 1.0], [0.0, 0.0, 0.0, 0.0, 0.0, 0.0, 1.0], [0.0, 0.0, 0.0, 0.0, 0.0, 0.0, 1.0], [0.0, 0.0, 1.0, 0.0, 0.0, 0.0, 0.0], [0.0, 0.0, 0.0, 0.0, 1.0, 0.0, 0.0], [1.0, 0.0, 0.0, 0.0, 0.0, 0.0, 0.0], [0.0, 0.0, 0.0, 0.0, 1.0, 0.0, 0.0], [0.0, 0.0, 1.0, 0.0, 0.0, 0.0, 0.0], [1.0, 0.0, 0.0, 0.0, 0.0, 0.0, 0.0], [0.0, 0.0, 1.0, 0.0, 1.0, 1.0, 0.0], [1.0, 0.0, 0.0, 0.0, 0.0, 0.0, 0.0], [0.0, 0.0, 0.0, 0.0, 1.0, 0.0, 0.0], [0.0, 0.0, 0.0, 0.0, 1.0, 0.0, 0.0], [0.0, 0.0, 1.0, 0.0, 0.0, 0.0, 0.0], [0.0, 0.0, 0.0, 0.0, 1.0, 0.0, 0.0], [0.0, 0.0, 0.0, 0.0, 1.0, 0.0, 0.0], [1.0, 0.0, 0.0, 0.0, 0.0, 0.0, 0.0], [0.0, 0.0, 0.0, 0.0, 0.0, 0.0, 1.0], [1.0, 0.0, 0.0, 0.0, 0.0, 0.0, 0.0], [0.0, 0.0, 0.0, 1.0, 0.0, 1.0, 0.0], [1.0, 0.0, 0.0, 0.0, 0.0, 0.0, 0.0], [0.0, 0.0, 0.0, 0.0, 1.0, 0.0, 0.0], [0.0, 0.0, 1.0, 0.0, 0.0, 0.0, 0.0], [0.0, 0.0, 0.0, 0.0, 1.0, 0.0, 0.0], [0.0, 0.0, 1.0, 0.0, 0.0, 0.0, 1.0], [0.0, 0.0, 0.0, 0.0, 0.0, 0.0, 1.0], [0.0, 0.0, 0.0, 0.0, 1.0, 0.0, 0.0], [0.0, 0.0, 1.0, 0.0, 0.0, 0.0, 0.0], [0.0, 0.0, 1.0, 0.0, 0.0, 0.0, 0.0], [1.0, 0.0, 0.0, 0.0, 1.0, 0.0, 0.0], [0.0, 0.0, 1.0, 0.0, 0.0, 0.0, 0.0], [0.0, 0.0, 0.0, 0.0, 1.0, 0.0, 0.0], [1.0, 0.0, 0.0, 0.0, 0.0, 0.0, 0.0], [0.0, 0.0, 0.0, 1.0, 0.0, 0.0, 0.0], [0.0, 0.0, 0.0, 0.0, 0.0, 0.0, 1.0], [0.0, 0.0, 0.0, 0.0, 1.0, 0.0, 0.0], [0.0, 0.0, 0.0, 0.0, 0.0, 1.0, 0.0], [0.0, 0.0, 0.0, 0.0, 0.0, 0.0, 1.0], [0.0, 0.0, 0.0, 0.0, 1.0, 0.0, 0.0], [0.0, 0.0, 0.0, 0.0, 0.0, 0.0, 1.0], [0.0, 0.0, 0.0, 0.0, 1.0, 0.0, 0.0], [1.0, 0.0, 0.0, 0.0, 0.0, 0.0, 0.0], [0.0, 0.0, 0.0, 0.0, 0.0, 1.0, 1.0], [0.0, 0.0, 0.0, 0.0, 1.0, 0.0, 0.0], [0.0, 0.0, 0.0, 0.0, 1.0, 0.0, 0.0], [0.0, 0.0, 0.0, 0.0, 0.0, 0.0, 1.0], [0.0, 0.0, 1.0, 0.0, 1.0, 0.0, 1.0], [0.0, 0.0, 1.0, 0.0, 0.0, 0.0, 1.0], [1.0, 0.0, 0.0, 0.0, 0.0, 0.0, 0.0], [0.0, 0.0, 0.0, 0.0, 1.0, 0.0, 0.0], [0.0, 0.0, 0.0, 1.0, 0.0, 1.0, 0.0], [0.0, 0.0, 0.0, 0.0, 1.0, 0.0, 0.0], [1.0, 0.0, 1.0, 1.0, 1.0, 0.0, 1.0], [0.0, 0.0, 0.0, 0.0, 1.0, 0.0, 0.0], [0.0, 0.0, 0.0, 0.0, 0.0, 0.0, 1.0], [0.0, 0.0, 1.0, 0.0, 0.0, 0.0, 1.0], [0.0, 0.0, 0.0, 0.0, 1.0, 0.0, 0.0], [0.0, 0.0, 0.0, 0.0, 1.0, 0.0, 0.0], [0.0, 0.0, 0.0, 0.0, 1.0, 0.0, 0.0], [1.0, 0.0, 0.0, 0.0, 0.0, 0.0, 0.0], [0.0, 0.0, 1.0, 0.0, 0.0, 0.0, 0.0], [0.0, 0.0, 0.0, 0.0, 1.0, 0.0, 0.0], [0.0, 0.0, 1.0, 0.0, 0.0, 0.0, 0.0], [0.0, 0.0, 0.0, 0.0, 1.0, 0.0, 0.0], [0.0, 0.0, 0.0, 0.0, 1.0, 0.0, 0.0], [1.0, 0.0, 0.0, 0.0, 0.0, 0.0, 0.0], [0.0, 1.0, 0.0, 0.0, 0.0, 0.0, 0.0], [0.0, 0.0, 0.0, 0.0, 1.0, 0.0, 0.0], [0.0, 0.0, 0.0, 0.0, 1.0, 0.0, 0.0], [0.0, 0.0, 0.0, 0.0, 1.0, 0.0, 0.0], [1.0, 0.0, 0.0, 0.0, 0.0, 0.0, 0.0], [0.0, 0.0, 0.0, 0.0, 1.0, 0.0, 0.0], [0.0, 0.0, 0.0, 0.0, 1.0, 0.0, 0.0], [0.0, 0.0, 0.0, 0.0, 1.0, 0.0, 0.0], [0.0, 0.0, 1.0, 0.0, 0.0, 0.0, 0.0], [0.0, 0.0, 1.0, 0.0, 0.0, 0.0, 0.0], [0.0, 0.0, 1.0, 0.0, 1.0, 0.0, 0.0], [0.0, 0.0, 1.0, 0.0, 1.0, 0.0, 0.0], [0.0, 0.0, 0.0, 0.0, 0.0, 1.0, 0.0], [0.0, 0.0, 1.0, 0.0, 0.0, 0.0, 0.0], [0.0, 0.0, 1.0, 0.0, 0.0, 0.0, 0.0], [1.0, 0.0, 0.0, 0.0, 0.0, 0.0, 0.0], [0.0, 0.0, 1.0, 0.0, 0.0, 0.0, 0.0], [0.0, 1.0, 0.0, 0.0, 0.0, 0.0, 0.0], [0.0, 0.0, 0.0, 1.0, 0.0, 0.0, 0.0], [1.0, 0.0, 1.0, 0.0, 1.0, 0.0, 0.0], [0.0, 0.0, 0.0, 0.0, 0.0, 0.0, 1.0], [0.0, 0.0, 0.0, 0.0, 0.0, 0.0, 1.0], [1.0, 0.0, 1.0, 1.0, 0.0, 0.0, 1.0], [1.0, 0.0, 0.0, 0.0, 0.0, 0.0, 0.0], [1.0, 0.0, 0.0, 0.0, 0.0, 0.0, 0.0], [1.0, 1.0, 0.0, 0.0, 0.0, 0.0, 0.0], [0.0, 0.0, 0.0, 0.0, 0.0, 1.0, 1.0], [0.0, 0.0, 0.0, 0.0, 1.0, 0.0, 0.0], [0.0, 0.0, 1.0, 0.0, 0.0, 0.0, 0.0], [1.0, 0.0, 0.0, 0.0, 0.0, 0.0, 0.0], [0.0, 0.0, 0.0, 0.0, 0.0, 0.0, 1.0], [0.0, 0.0, 0.0, 0.0, 0.0, 0.0, 1.0], [0.0, 0.0, 0.0, 0.0, 1.0, 0.0, 0.0], [0.0, 0.0, 0.0, 0.0, 0.0, 0.0, 1.0], [0.0, 0.0, 0.0, 0.0, 1.0, 0.0, 0.0], [0.0, 0.0, 0.0, 0.0, 1.0, 0.0, 0.0], [1.0, 0.0, 0.0, 0.0, 0.0, 0.0, 0.0], [0.0, 0.0, 0.0, 1.0, 0.0, 0.0, 0.0], [0.0, 0.0, 1.0, 0.0, 0.0, 0.0, 1.0], [0.0, 0.0, 0.0, 0.0, 1.0, 0.0, 0.0], [0.0, 0.0, 1.0, 0.0, 1.0, 1.0, 0.0]]\n"
          ],
          "name": "stdout"
        }
      ]
    },
    {
      "cell_type": "markdown",
      "metadata": {
        "id": "LgaIrKBv3kLZ",
        "colab_type": "text"
      },
      "source": [
        "Next, store the list of lists you created in a NumPy array `A`. Use the `.shape` attribute to find the dimensions of the array `A`. \n",
        "\n",
        "Check your work: you should have a NumPy array with 254 rows and 7 columns."
      ]
    },
    {
      "cell_type": "code",
      "metadata": {
        "id": "1O7dNiQk3kLa",
        "colab_type": "code",
        "outputId": "8c5322a3-b2ea-48a7-9ce2-1901b3b19a23",
        "colab": {
          "base_uri": "https://localhost:8080/",
          "height": 34
        }
      },
      "source": [
        "import numpy as np\n",
        "\n",
        "# Put 0-1 matrix into a Numpy array\n",
        "A = np.array(zero_one_values)\n",
        "\n",
        "# Print dimensions of the matrix\n",
        "print(f\"The dimensions of A are {A.shape}.\")"
      ],
      "execution_count": 9,
      "outputs": [
        {
          "output_type": "stream",
          "text": [
            "The dimensions of A are (254, 7).\n"
          ],
          "name": "stdout"
        }
      ]
    },
    {
      "cell_type": "markdown",
      "metadata": {
        "id": "0ajzlPqm3kLd",
        "colab_type": "text"
      },
      "source": [
        "### Part 3"
      ]
    },
    {
      "cell_type": "markdown",
      "metadata": {
        "id": "4jfO2m593kLe",
        "colab_type": "text"
      },
      "source": [
        "Now we're going to create the adjacency matrix:\n",
        "\n",
        "- Use the `@` operator and the `.transpose()` method to create the adjacency matrix $M = AA^T$.\n",
        "- Print the matrix and take a look. It contains some entries that are different from 0 and 1. \n",
        "- Replace nonzero entries with 1s. Also, replace all diagonal entries with 0s since each node should not be connected to itself. Check your work by printing the matrix again.\n",
        "\n",
        "_Pro tip._ A slick way to get the number of rows and columns of a NumPy array is:\n",
        "\n",
        "```python\n",
        "# m = number of rows\n",
        "# n = number of columns\n",
        "m, n = A.shape\n",
        "```\n",
        "\n",
        "Alternatively, you can use `A.shape[0]` and `A.shape[1]`."
      ]
    },
    {
      "cell_type": "code",
      "metadata": {
        "id": "RFrS30d43kLe",
        "colab_type": "code",
        "outputId": "b538d42b-d36c-45fe-fdda-5ea48dd42168",
        "colab": {
          "base_uri": "https://localhost:8080/",
          "height": 136
        }
      },
      "source": [
        "# Compute M\n",
        "M = A @ A.transpose()\n",
        "\n",
        "# Check our work\n",
        "print(M)"
      ],
      "execution_count": 10,
      "outputs": [
        {
          "output_type": "stream",
          "text": [
            "[[2. 2. 1. ... 1. 0. 1.]\n",
            " [2. 4. 1. ... 2. 0. 2.]\n",
            " [1. 1. 1. ... 1. 0. 1.]\n",
            " ...\n",
            " [1. 2. 1. ... 2. 0. 1.]\n",
            " [0. 0. 0. ... 0. 1. 1.]\n",
            " [1. 2. 1. ... 1. 1. 3.]]\n"
          ],
          "name": "stdout"
        }
      ]
    },
    {
      "cell_type": "code",
      "metadata": {
        "id": "usbaGnFm3kLh",
        "colab_type": "code",
        "outputId": "8f488b41-b612-4b7b-95ee-f326cf50edd6",
        "colab": {
          "base_uri": "https://localhost:8080/",
          "height": 136
        }
      },
      "source": [
        "# Get size of matrix\n",
        "m, n = M.shape\n",
        "\n",
        "# Modify adjacency matrix\n",
        "for i in range(m):\n",
        "    for j in range(n):\n",
        "        # Replace nonzero entries with 1s\n",
        "        if M[i, j] > 0:\n",
        "            M[i, j] = 1\n",
        "        \n",
        "        # Replace diagonal entries with 0s\n",
        "        if i == j:\n",
        "            M[i, j] = 0\n",
        "\n",
        "# Check our work\n",
        "print(M)"
      ],
      "execution_count": 11,
      "outputs": [
        {
          "output_type": "stream",
          "text": [
            "[[0. 1. 1. ... 1. 0. 1.]\n",
            " [1. 0. 1. ... 1. 0. 1.]\n",
            " [1. 1. 0. ... 1. 0. 1.]\n",
            " ...\n",
            " [1. 1. 1. ... 0. 0. 1.]\n",
            " [0. 0. 0. ... 0. 0. 1.]\n",
            " [1. 1. 1. ... 1. 1. 0.]]\n"
          ],
          "name": "stdout"
        }
      ]
    },
    {
      "cell_type": "markdown",
      "metadata": {
        "id": "kpiSHTje3kLk",
        "colab_type": "text"
      },
      "source": [
        "### Part 4"
      ]
    },
    {
      "cell_type": "markdown",
      "metadata": {
        "id": "nlUBVHUb3kLl",
        "colab_type": "text"
      },
      "source": [
        "Use NetworkX to make a graph `G` whose adjacency matrix is `M`. Recall that `G.degree()[i]` gives you the degree of node `i`. Make a list `degs` whose $i^\\text{th}$ entry is the degree of node $i$. Check your work: `degs[101]` should equal 135. "
      ]
    },
    {
      "cell_type": "code",
      "metadata": {
        "id": "ViEVxYWo3kLo",
        "colab_type": "code",
        "outputId": "40059e9a-5472-40ff-eac6-dea32b948860",
        "colab": {
          "base_uri": "https://localhost:8080/",
          "height": 34
        }
      },
      "source": [
        "import networkx as nx\n",
        "\n",
        "# Create graph\n",
        "G = nx.Graph(M)\n",
        "\n",
        "# Create list of degrees\n",
        "# Recall that n is the number of rows of M, \n",
        "# which is the number of nodes in G\n",
        "# Here, we've used a list comprehension\n",
        "# Using a for loop with .append() is OK too\n",
        "degs = [G.degree()[i] for i in range(n)]\n",
        "\n",
        "# Check our work\n",
        "print(degs[101])"
      ],
      "execution_count": 12,
      "outputs": [
        {
          "output_type": "stream",
          "text": [
            "135\n"
          ],
          "name": "stdout"
        }
      ]
    },
    {
      "cell_type": "markdown",
      "metadata": {
        "id": "ztrN_e5E3kLr",
        "colab_type": "text"
      },
      "source": [
        "### Part 5"
      ]
    },
    {
      "cell_type": "markdown",
      "metadata": {
        "id": "LZHvcUt_3kLs",
        "colab_type": "text"
      },
      "source": [
        "Define $N$ to be the number of revolutionaries, or vertices in `G`. The _normalized degree_ (also known as *degree centrality*) of vertex $i$ is the degree of vertex $i$ divided by $N-1$. Using the list `degs` you created in Part 4, make a list `ndegs` whose $i^\\text{th}$ entry is the normalized degree of node $i$. Check your work: `ndegs[101]` should be approximately 0.5336.\n",
        "\n",
        "(Recall from Lesson 12 that we could have used `nx.degree_centrality()` to compute these values. Let's do this \"manually\" here instead.)"
      ]
    },
    {
      "cell_type": "code",
      "metadata": {
        "id": "7GxzMLKF3kLt",
        "colab_type": "code",
        "outputId": "b87265cd-27ad-4897-ed31-09a5455bcd2f",
        "colab": {
          "base_uri": "https://localhost:8080/",
          "height": 34
        }
      },
      "source": [
        "# Compute N\n",
        "N = len(G.nodes)\n",
        "\n",
        "# Compute normalized degree\n",
        "ndegs = [d / (N - 1) for d in degs]\n",
        "\n",
        "# Check our work\n",
        "print(ndegs[101])"
      ],
      "execution_count": 13,
      "outputs": [
        {
          "output_type": "stream",
          "text": [
            "0.5335968379446641\n"
          ],
          "name": "stdout"
        }
      ]
    },
    {
      "cell_type": "markdown",
      "metadata": {
        "id": "SXb8DhS53kLv",
        "colab_type": "text"
      },
      "source": [
        "### Part 6"
      ]
    },
    {
      "cell_type": "markdown",
      "metadata": {
        "id": "xoTXLHuH3kLw",
        "colab_type": "text"
      },
      "source": [
        "We want to print out a list of the five revolutionaries with the highest normalized degrees. We'll do this over the next few parts.\n",
        "\n",
        "First, let's see how to print a nicely formatted string. Run the following cell:"
      ]
    },
    {
      "cell_type": "code",
      "metadata": {
        "id": "U2JeI2n43kLx",
        "colab_type": "code",
        "outputId": "119b1f55-213d-4b00-f0dd-e690fe55eca8",
        "colab": {
          "base_uri": "https://localhost:8080/",
          "height": 34
        }
      },
      "source": [
        "# Define variables for  name, rank and value\n",
        "nm = 'Will'\n",
        "rk = 2\n",
        "val = 3.1415\n",
        "\n",
        "# Print this information\n",
        "print(f'{nm:<5s} {rk:>5d} {val:0.3f}')"
      ],
      "execution_count": 14,
      "outputs": [
        {
          "output_type": "stream",
          "text": [
            "Will      2 3.142\n"
          ],
          "name": "stdout"
        }
      ]
    },
    {
      "cell_type": "markdown",
      "metadata": {
        "id": "c4eH9lSH3kLz",
        "colab_type": "text"
      },
      "source": [
        "Note that the f-string looks different from the ones we've used so far &mdash; in particular, what's inside the `{ }`.\n",
        "\n",
        "The expressions inside `{ }` before `:` are evaluated at run time, and in this case will take on the values of `Will`, `2`, and `3.1415`, respectively.  Python prints the value for each of these variables. \n",
        "\n",
        "The `5s` following the first `:` means that the value should be formatted as a string (that's due to the `s`) and that the string should take at least 5 characters. The `<` sign tells Python to left justify the string in the 5 character space. If the string is longer than 5 characters, all characters are printed; the 5 just determines the padding that we'll use if the string is shorter than 5 characters. This is very helpful in lining up printed text in nice columns. \n",
        "\n",
        "The value for `rk` is formatted as an integer (that's due to the `d`, think: digit) with at least 5 spaces. The `>` sign tells Python to right justify the string in the 5 character space. If you want your string to be centered in the allotted character space, you should use `^` in place of the `<` or `>`.  \n",
        "\n",
        "Finally, `val` is formatted as a float (that's due to the `f`). The minimum field is 0 characters but the value following the decimal is important too: it is the precision, the number of characters after the decimal that are printed. If the number has more decimals, the value is rounded. \n",
        "   \n",
        "[Here's more reading about f-strings.](https://realpython.com/python-f-strings/)"
      ]
    },
    {
      "cell_type": "markdown",
      "metadata": {
        "id": "hZsHko2n3kL0",
        "colab_type": "text"
      },
      "source": [
        "Use code similar to the code given above to print the first American revolutionary's name (left justified, in at least 25 spaces), their rank (1), and their normalized degree (to 4 decimal places accuracy). It might make more sense to print their rank first. Also, print a header with the words `Rank`, `Name`, and `ndeg` on top by using a second print statement. Your output should look like:\n",
        "\n",
        "```\n",
        "Rank  Name                      ndeg\n",
        "1     Adams.John                0.2885\n",
        "```"
      ]
    },
    {
      "cell_type": "code",
      "metadata": {
        "id": "xI1KSoz23kL1",
        "colab_type": "code",
        "outputId": "ab6c6be1-9703-4a08-cc71-97154c543270",
        "colab": {
          "base_uri": "https://localhost:8080/",
          "height": 51
        }
      },
      "source": [
        "# Print table heading\n",
        "rank = 'Rank'\n",
        "name = 'Name'\n",
        "measure = 'ndeg'\n",
        "print(f'{rank:5s} {name:<25s} {measure:s}')\n",
        "\n",
        "# Print information for first revolutionary\n",
        "rank = 1\n",
        "name = names[0]\n",
        "measure = ndegs[0]\n",
        "# Note: < is for left aligned, > is for right aligned, ^ is for center aligned\n",
        "print(f'{rank:<5d} {name:<25s} {measure:0.4f}') "
      ],
      "execution_count": 15,
      "outputs": [
        {
          "output_type": "stream",
          "text": [
            "Rank  Name                      ndeg\n",
            "1     Adams.John                0.2885\n"
          ],
          "name": "stdout"
        }
      ]
    },
    {
      "cell_type": "markdown",
      "metadata": {
        "id": "tqGC_4MA3kL4",
        "colab_type": "text"
      },
      "source": [
        "### Part 7"
      ]
    },
    {
      "cell_type": "markdown",
      "metadata": {
        "id": "8r2I4UJr3kL5",
        "colab_type": "text"
      },
      "source": [
        "Now we'd like to sort the list of normalized degrees. We could just use the `sorted` function to do this, but it would help if we knew how the original list was permuted or rearranged. The `np.argsort` method does just that! \n",
        "\n",
        "Take a look at this example code:"
      ]
    },
    {
      "cell_type": "code",
      "metadata": {
        "id": "jWzQxzE43kL5",
        "colab_type": "code",
        "outputId": "27442c21-88b7-46a9-bced-3801f03a68bb",
        "colab": {
          "base_uri": "https://localhost:8080/",
          "height": 51
        }
      },
      "source": [
        "# Define sample list of values\n",
        "list_of_vals = [1, 3, 2]\n",
        "\n",
        "# Get indices of how the values should be sorted\n",
        "idx = np.argsort(list_of_vals)[::-1]\n",
        "\n",
        "# What do the indices look like?\n",
        "print(idx)\n",
        "\n",
        "# Check our work with sorted()\n",
        "print([list_of_vals[i] for i in idx] == sorted(list_of_vals, reverse=True))"
      ],
      "execution_count": 16,
      "outputs": [
        {
          "output_type": "stream",
          "text": [
            "[1 2 0]\n",
            "True\n"
          ],
          "name": "stdout"
        }
      ]
    },
    {
      "cell_type": "markdown",
      "metadata": {
        "id": "oBT1KUzs3kL8",
        "colab_type": "text"
      },
      "source": [
        "On line 5, we pass `list_of_vals` to the `np.argsort` method, which returns a list-like object (a NumPy array, to be exact). \n",
        "\n",
        "Recall the slicing syntax: `[start:stop:step]`. So adding `[::-1]` to a list-like object reverses the order of the list. Since `np.argsort` sorts by increasing order, we want to reverse the order of the list it returns.\n",
        "\n",
        "Note that\n",
        "\n",
        "```python\n",
        "list_of_vals[1] > list_of_vals[2] > list_of_vals[0]\n",
        "```\n",
        "\n",
        "so the output of `np.argsort` is a list of the indices for the original list that produce the sorted list. We verify this on line 11, which outputs `True`. "
      ]
    },
    {
      "cell_type": "markdown",
      "metadata": {
        "id": "7_1DL9Hp3kL9",
        "colab_type": "text"
      },
      "source": [
        "Now you should find the indices that sort the normalized degrees from highest to lowest. Check your work: your first 3 values should be 199, 10 and 110. Also find the names of the American revolutionaries with the highest 3 normalized degrees. "
      ]
    },
    {
      "cell_type": "code",
      "metadata": {
        "id": "BQEKJczS3kL-",
        "colab_type": "code",
        "outputId": "48e7ba39-96b1-40f7-f169-39d4334dec1c",
        "colab": {
          "base_uri": "https://localhost:8080/",
          "height": 102
        }
      },
      "source": [
        "# Get indices of how the normalized degree \n",
        "# values should sorted, highest to lowest\n",
        "idx = np.argsort(ndegs)[::-1]\n",
        "\n",
        "# Print the indices corresponding to the \n",
        "# 3 highest normalized degree values\n",
        "print(idx[0:3])\n",
        "\n",
        "# Print the names of the revolutionaries with the\n",
        "# 3 highest normalized degree values\n",
        "print('The American revolutionaries with the three highest ndegs values are:')\n",
        "print(names[idx[0]])\n",
        "print(names[idx[1]])\n",
        "print(names[idx[2]])"
      ],
      "execution_count": 17,
      "outputs": [
        {
          "output_type": "stream",
          "text": [
            "[199  10 110]\n",
            "The American revolutionaries with the three highest ndegs values are:\n",
            "Revere.Paul\n",
            "Barber.Nathaniel\n",
            "Hoffins.John\n"
          ],
          "name": "stdout"
        }
      ]
    },
    {
      "cell_type": "markdown",
      "metadata": {
        "id": "fCtaaEDV3kMA",
        "colab_type": "text"
      },
      "source": [
        "### Part 8"
      ]
    },
    {
      "cell_type": "markdown",
      "metadata": {
        "id": "jhbjV8om3kMB",
        "colab_type": "text"
      },
      "source": [
        "Finally, put the last two parts together to produce a chart with the top 5 American revolutionaries, ranked by normalized degree. Your chart should have columns for rank, name and normalized degree. It should have a row for each of the five revolutionaries.\n",
        "\n",
        "_Challenge._ Can you write the names so that they don't have the odd formatting? Hint: use the `.split()` method for strings, described [here in the documentation](https://docs.python.org/3.7/library/stdtypes.html#str.split)."
      ]
    },
    {
      "cell_type": "code",
      "metadata": {
        "id": "sAcm4ZJV3kMC",
        "colab_type": "code",
        "outputId": "8d9e98a0-1cb4-429a-85ae-a1a53badd1e5",
        "colab": {
          "base_uri": "https://localhost:8080/",
          "height": 119
        }
      },
      "source": [
        "# Print table heading\n",
        "rank = 'Rank'\n",
        "name = 'Name'\n",
        "measure = 'ndeg'\n",
        "print(f'{rank:5s} {name:25s} {measure:s}')\n",
        "\n",
        "# Print top 5 revolutionaries by normalized degree\n",
        "for i in range(5):\n",
        "    name_split = names[idx[i]].split('.')\n",
        "    full_name = f'{name_split[1]} {name_split[0]}'\n",
        "    print(f'{(i+1):<5d} {full_name:25s} {ndegs[idx[i]]:0.4f}')"
      ],
      "execution_count": 18,
      "outputs": [
        {
          "output_type": "stream",
          "text": [
            "Rank  Name                      ndeg\n",
            "1     Paul Revere               0.9802\n",
            "2     Nathaniel Barber          0.7905\n",
            "3     John Hoffins              0.7905\n",
            "4     William Cooper            0.7905\n",
            "5     William Greenleaf         0.7826\n"
          ],
          "name": "stdout"
        }
      ]
    },
    {
      "cell_type": "markdown",
      "metadata": {
        "id": "ZM6emXLe3kME",
        "colab_type": "text"
      },
      "source": [
        "### Part 9"
      ]
    },
    {
      "cell_type": "markdown",
      "metadata": {
        "id": "GuJv32Jm3kME",
        "colab_type": "text"
      },
      "source": [
        "Now we're going to package all our work from the last three parts into a function. \n",
        "\n",
        "Define a function called `foutput` that takes inputs `measure_list`, `measure_name`, `name_list` and `many`:\n",
        "\n",
        "- `measure_list` should be a list of measurements, not necessarily sorted. \n",
        "- `measure_name` should be a string with the name of the quantity measured in `measure_list`.\n",
        "- `name_list` should be a list of names, one for each number in `measure_list`. \n",
        "- `many` should be a number and it should be equal to 5 as a default value. \n",
        "\n",
        "The function should print a table. The table should have columns for rank, name and the measured quantity. You should print the top `many` values of `measure_list`, one on each row, with the corresponding names. \n",
        "\n",
        "Test your function on your normalized degree data to ensure that it gives the same output as in the previous question. Also test your function if you don't give a value for `many` as input."
      ]
    },
    {
      "cell_type": "code",
      "metadata": {
        "id": "_5QiuF5J3kMF",
        "colab_type": "code",
        "outputId": "478c72ce-4442-4cbc-82c6-a4bb35b541ca",
        "colab": {
          "base_uri": "https://localhost:8080/",
          "height": 119
        }
      },
      "source": [
        "def foutput(measure_list, measure_name, name_list, many=5):\n",
        "    \"\"\"\n",
        "    Print top `many` values of `measurelist`, one on each row, with the corresponding names. \n",
        "    \"\"\"\n",
        "    # Get indices of how the measure list should sorted, highest to lowest\n",
        "    idx = np.array(measure_list).argsort()[::-1]\n",
        "    \n",
        "    # Print table heading\n",
        "    rank = 'Rank'\n",
        "    name = 'Name'\n",
        "    print(f'{rank:5s} {name:25s} {measure_name:s}')\n",
        "    \n",
        "    # Print top `many` names by measure\n",
        "    for i in range(many):\n",
        "        name_split = name_list[idx[i]].split('.')\n",
        "        full_name = f'{name_split[1]} {name_split[0]}'\n",
        "        print(f'{(i+1):<5d} {full_name:25s} {measure_list[idx[i]]:0.4f}')\n",
        "        \n",
        "# Test function        \n",
        "foutput(ndegs, 'ndeg', names, 5) "
      ],
      "execution_count": 19,
      "outputs": [
        {
          "output_type": "stream",
          "text": [
            "Rank  Name                      ndeg\n",
            "1     Paul Revere               0.9802\n",
            "2     Nathaniel Barber          0.7905\n",
            "3     John Hoffins              0.7905\n",
            "4     William Cooper            0.7905\n",
            "5     William Greenleaf         0.7826\n"
          ],
          "name": "stdout"
        }
      ]
    },
    {
      "cell_type": "markdown",
      "metadata": {
        "id": "Vp7lSBq53kMH",
        "colab_type": "text"
      },
      "source": [
        "### Part 10"
      ]
    },
    {
      "cell_type": "markdown",
      "metadata": {
        "id": "29MOBD4C3kMH",
        "colab_type": "text"
      },
      "source": [
        "The *normalized closeness* (also known as *closeness centrality*) is another measure of the centrality of nodes in a network (see Lesson 12 and Project 5 for details). Recall that NetworkX has a built-in function to compute normalized closeness: "
      ]
    },
    {
      "cell_type": "code",
      "metadata": {
        "id": "D8PDHfqj3kMI",
        "colab_type": "code",
        "colab": {}
      },
      "source": [
        "# Compute closeness centrality\n",
        "# nx.closeness_centrality returns a dictionary\n",
        "closeness = nx.closeness_centrality(G)\n",
        "\n",
        "# Create list of closeness centrality values\n",
        "# Recall that n is the number of nodes in G\n",
        "# Here, we've used a list comprehension\n",
        "# Using a for loop with .append() is OK too\n",
        "closeness_list = [closeness[i] for i in range(n)]"
      ],
      "execution_count": 0,
      "outputs": []
    },
    {
      "cell_type": "markdown",
      "metadata": {
        "id": "PQlzFi3c3kMK",
        "colab_type": "text"
      },
      "source": [
        "The code above produces a list `closeness_list` that contains the normalized closeness values. Use your code from the last part to produce a table with the names and scores of the top five American revolutionaries as measured by normalized closeness. "
      ]
    },
    {
      "cell_type": "code",
      "metadata": {
        "id": "XI9gdaVW3kMK",
        "colab_type": "code",
        "outputId": "3f97e12d-0384-4270-d996-d91c7b716600",
        "colab": {
          "base_uri": "https://localhost:8080/",
          "height": 119
        }
      },
      "source": [
        "foutput(closeness_list, 'closeness', names, 5)"
      ],
      "execution_count": 21,
      "outputs": [
        {
          "output_type": "stream",
          "text": [
            "Rank  Name                      closeness\n",
            "1     Paul Revere               0.9806\n",
            "2     Nathaniel Barber          0.8268\n",
            "3     John Hoffins              0.8268\n",
            "4     William Cooper            0.8268\n",
            "5     William Greenleaf         0.8214\n"
          ],
          "name": "stdout"
        }
      ]
    },
    {
      "cell_type": "markdown",
      "metadata": {
        "id": "MTEPZOZz3kMM",
        "colab_type": "text"
      },
      "source": [
        "### Part 11"
      ]
    },
    {
      "cell_type": "markdown",
      "metadata": {
        "id": "Ia9OE8sr3kMN",
        "colab_type": "text"
      },
      "source": [
        "Computing the normalized closeness requires us to find all the shortest paths between two people in our relationship graph. \n",
        "\n",
        "The NetworkX method `nx.shortest_path` computes a shortest path between two nodes in a graph. Look at the NetworkX documentation to find out how to use this method. Then find a shortest path from Nathaniel Barber (node 10 in our graph) to John Winslow (node 250 in our graph). \n",
        "\n",
        "Next, use the NetworkX method `nx.all_shortest_paths` to count the number of shortest paths linking Nathaniel Barber to John Winslow. "
      ]
    },
    {
      "cell_type": "code",
      "metadata": {
        "id": "mqkbbMiq3kMN",
        "colab_type": "code",
        "outputId": "4befe5e8-4b61-4ab8-f3b2-e992ec46635c",
        "colab": {
          "base_uri": "https://localhost:8080/",
          "height": 122
        }
      },
      "source": [
        "# Find a shortest path betwteen nodes 10 and 250\n",
        "# Print the path (node numbers)\n",
        "path = nx.shortest_path(G, source=10, target=250)\n",
        "print(f'A shortest path between nodes 10 and 250 is: {path}')\n",
        "\n",
        "# Print the corresponding names of this path\n",
        "npath = [names[i] for i in path]\n",
        "print(f'A shortest path between Nathaniel Barber and John Winslow is: {npath}')\n",
        "\n",
        "# Find all shortest paths between nodes 10 and 250\n",
        "# Print the paths\n",
        "# Count the paths\n",
        "paths = list(nx.all_shortest_paths(G, source=10, target=250))\n",
        "print('All of the shortest paths between Nathaniel Barber and John Winslow:')\n",
        "print(paths)\n",
        "print(f'There are actually {len(paths)} shortest paths between Nathaniel Barber and John Winslow.')"
      ],
      "execution_count": 22,
      "outputs": [
        {
          "output_type": "stream",
          "text": [
            "A shortest path between nodes 10 and 250 is: [10, 0, 250]\n",
            "A shortest path between Nathaniel Barber and John Winslow is: ['Barber.Nathaniel', 'Adams.John', 'Winslow.John']\n",
            "All of the shortest paths between Nathaniel Barber and John Winslow:\n",
            "[[10, 0, 250], [10, 1, 250], [10, 50, 250], [10, 51, 250], [10, 100, 250], [10, 101, 250], [10, 166, 250], [10, 197, 250], [10, 199, 250], [10, 235, 250]]\n",
            "There are actually 10 shortest paths between Nathaniel Barber and John Winslow.\n"
          ],
          "name": "stdout"
        }
      ]
    },
    {
      "cell_type": "markdown",
      "metadata": {
        "id": "G4Cyg2ZZ3kMP",
        "colab_type": "text"
      },
      "source": [
        "### Part 12"
      ]
    },
    {
      "cell_type": "markdown",
      "metadata": {
        "id": "JVfmmTzB3kMQ",
        "colab_type": "text"
      },
      "source": [
        "The PageRank algorithm is one of the celebrated algorithms of the internet age. It ranks the importance of web pages on the internet. It can also be used to rank the importance of nodes in a network. The algorithm sets up a transition matrix for some evolving process on the graph and then computes the eigenvector corresponding to the maximum eigenvalue of this matrix. More details are in Project 5.\n",
        "\n",
        "The code below computes the PageRank of each node in our network of American revolutionaries. "
      ]
    },
    {
      "cell_type": "code",
      "metadata": {
        "id": "E5glijYp3kMQ",
        "colab_type": "code",
        "colab": {}
      },
      "source": [
        "pr = nx.pagerank(G, alpha=0.85)"
      ],
      "execution_count": 0,
      "outputs": []
    },
    {
      "cell_type": "markdown",
      "metadata": {
        "id": "iufvvhGy3kMS",
        "colab_type": "text"
      },
      "source": [
        "`nx.pagerank()` has a parameter `alpha` that is customarily set to 0.85 but other values are also possible. Print a table with the names and scores of the top five American revolutionaries as measured by PageRank. "
      ]
    },
    {
      "cell_type": "code",
      "metadata": {
        "id": "Miafhb4P3kMT",
        "colab_type": "code",
        "outputId": "d664b6cc-72d2-43b4-f1a8-746316f06fa5",
        "colab": {
          "base_uri": "https://localhost:8080/",
          "height": 119
        }
      },
      "source": [
        "# Compute PageRank\n",
        "# nx.pagerank returns a dictionary\n",
        "pr = nx.pagerank(G, alpha=0.85)\n",
        "\n",
        "# Create list of PageRank values\n",
        "# Recall that n is the number of nodes in G\n",
        "# Here, we've used a list comprehension\n",
        "# Using a for loop with .append() is OK too\n",
        "pr_list = [pr[i] for i in range(n)]\n",
        "\n",
        "# Print top 5 revolutionaries by PageRank\n",
        "foutput(pr_list, 'PageRank', names, 5)"
      ],
      "execution_count": 24,
      "outputs": [
        {
          "output_type": "stream",
          "text": [
            "Rank  Name                      PageRank\n",
            "1     Paul Revere               0.0113\n",
            "2     Joseph Warren             0.0087\n",
            "3     John Hoffins              0.0087\n",
            "4     William Cooper            0.0087\n",
            "5     Nathaniel Barber          0.0087\n"
          ],
          "name": "stdout"
        }
      ]
    },
    {
      "cell_type": "markdown",
      "metadata": {
        "id": "MRMpySLF3kMV",
        "colab_type": "text"
      },
      "source": [
        "### Part 13"
      ]
    },
    {
      "cell_type": "markdown",
      "metadata": {
        "id": "oxjBuXH83kMV",
        "colab_type": "text"
      },
      "source": [
        "**This question is considered challenge material, BUT it is important because you need to do something similar on your assignment.** \n",
        "\n",
        "Let's delve into the PageRank method a bit further. In the code cell below, we define the matrix `MM`, which follows the formula given for $M$ in the PageRank section of Project 5."
      ]
    },
    {
      "cell_type": "code",
      "metadata": {
        "id": "SHHIQbnu3kMW",
        "colab_type": "code",
        "colab": {}
      },
      "source": [
        "# Number of nodes\n",
        "N = G.number_of_nodes()\n",
        "\n",
        "# Set damping parameter\n",
        "d = 0.85\n",
        "\n",
        "# Form matrix K whose diagonal entries = out degree\n",
        "# We can accomplish this by summing the entries in each row or column of A\n",
        "out_degree = [sum(M[:, i]) for i in range(N)]\n",
        "K = np.diag(out_degree)\n",
        "\n",
        "# Compute PageRank matrix\n",
        "MM = d * (np.linalg.inv(K) @ M).transpose() + ((1 - d) / N) * np.ones([N, N])"
      ],
      "execution_count": 0,
      "outputs": []
    },
    {
      "cell_type": "markdown",
      "metadata": {
        "id": "QSmMBaat3kMY",
        "colab_type": "text"
      },
      "source": [
        "The method we use to find the largest eigenvalue is an _iterative_ method that starts with a _random_ vector with components between 0 and 1. We divide the vector by its 1-norm (the sum of the absolute values of its components) so that it represents a probability distribution on the set of nodes. "
      ]
    },
    {
      "cell_type": "code",
      "metadata": {
        "id": "vZWiBH303kMY",
        "colab_type": "code",
        "colab": {}
      },
      "source": [
        "# Make random vector v with components between 0 and 1\n",
        "v = np.random.rand(N)\n",
        "\n",
        "# Divide the vector v by its 1-norm\n",
        "v = v / np.linalg.norm(v, ord=1)"
      ],
      "execution_count": 0,
      "outputs": []
    },
    {
      "cell_type": "markdown",
      "metadata": {
        "id": "A38qW40s3kMa",
        "colab_type": "text"
      },
      "source": [
        "Now we set a small error threshold (`epsilon`) and initialize our error to a large overestimate (`error`). We iterate until the error between our current vector `v` and the previous version of vector `v` is smaller than the error threshold. At each iteration we multiply `v` by `MM`, and rescale `v` by dividing by its 1-norm (to keep it a probability distribution). We compute the error using the 2-norm."
      ]
    },
    {
      "cell_type": "code",
      "metadata": {
        "id": "wf2foS8a3kMb",
        "colab_type": "code",
        "colab": {}
      },
      "source": [
        "# Iteratively improve v     \n",
        "epsilon = 1e-6\n",
        "error = float(\"inf\")\n",
        "iteration = 0\n",
        "\n",
        "while error > epsilon:  # stop when error <= epsilon\n",
        "    iteration += 1\n",
        "    oldv = v\n",
        "    v = MM @ v\n",
        "    v = v / np.linalg.norm(v, ord=1)\n",
        "    error = np.linalg.norm(v - oldv, ord=2)"
      ],
      "execution_count": 0,
      "outputs": []
    },
    {
      "cell_type": "markdown",
      "metadata": {
        "id": "rZ6xKLdI3kMd",
        "colab_type": "text"
      },
      "source": [
        "First, create a NumPy array `R` consisting of the values computed by `nx.pagerank()`, so that `R[i]` is the PageRank of revolutionary `i`. (You should have already created a list of these values in Part 12. How do you convert the list into a one-dimensional NumPy array?)\n",
        "\n",
        "Then, compute the 2-norm distance between the array `v` output by this process and values computed by `nx.pagerank()`.\n",
        "\n",
        "Check your work: the distance should be close to $5 \\times 10^{-5}$. In general the vector $v$ is close to the true eigenvector $R$ though it may not be quite as close as the error tolerance.  "
      ]
    },
    {
      "cell_type": "code",
      "metadata": {
        "id": "4z5iZtcP3kMd",
        "colab_type": "code",
        "outputId": "76482c34-b5c8-42ac-aeaf-e875ec4837ab",
        "colab": {
          "base_uri": "https://localhost:8080/",
          "height": 34
        }
      },
      "source": [
        "# Compare our v with the output from pagerank\n",
        "R = np.array(pr_list)\n",
        "diff = np.linalg.norm(v - R, ord=2)\n",
        "print(f\"The difference in 2-norm between our v and the output from the Networkx PageRank algorithm is {diff}.\")"
      ],
      "execution_count": 28,
      "outputs": [
        {
          "output_type": "stream",
          "text": [
            "The difference in 2-norm between our v and the output from the Networkx PageRank algorithm is 5.562490403141825e-05.\n"
          ],
          "name": "stdout"
        }
      ]
    }
  ]
}